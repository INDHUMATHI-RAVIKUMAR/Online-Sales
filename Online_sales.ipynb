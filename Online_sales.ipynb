{
 "cells": [
  {
   "cell_type": "markdown",
   "id": "3c707cfe-4708-41ac-8806-93005afba5a9",
   "metadata": {
    "jp-MarkdownHeadingCollapsed": true
   },
   "source": [
    "<h1 style= \"color:black\">To analysis online sales data frame</h1>"
   ]
  },
  {
   "attachments": {},
   "cell_type": "markdown",
   "id": "0a1ac590-8f00-4dcf-86e0-5d10f8fc7404",
   "metadata": {},
   "source": [
    "<h1 style = \"color:darkblue\">Sample data_frame taken</h1>\n",
    "<h2 style = \"color:black\">DATA UNDERSTANDING</h2>\n",
    "<p>\n",
    "<p style=\"color:blue;\">Transaction ID\t---> Each and every product having transaction id</p>\n",
    "<p style =\"color:blue;\">Date\t       ---> Date of every sold product</p>\n",
    "<p style =\"color:blue;\">Product Category ---> catagory of products . ('Electronics', 'Home Appliances', 'Clothing', 'Books',\r\n",
    "       'Beauty Products', 'Sports')</p>\n",
    "<p style =\"color:blue;\">Product Name     ---> product name </p>\n",
    "<p style =\"color:blue;\">Units Sold       ---> no of quantity sold</p>\n",
    "<p style =\"color:blue;\">Unit Price       ---> price per no of every products</p>\n",
    "<p style =\"color:blue;\">Total Revenue    ---> total profit of sold products</p>\n",
    "<p style =\"color:blue;\">Region           ---> location of purchase/sol('North America', 'Europe', 'Asia')d</p>\n",
    "<p style =\"color:blue;\">Payment Method   ---> type of money transactio('Credit Card', 'PayPal', 'Debit Card')n </p>\n",
    "</p>\n",
    "\n"
   ]
  },
  {
   "cell_type": "markdown",
   "id": "479bba16-fa6b-4a3f-afa2-d00a4a33ee32",
   "metadata": {},
   "source": [
    "<h1>To read data_frame</h1>"
   ]
  },
  {
   "cell_type": "code",
   "execution_count": 1,
   "id": "abb80823-fc10-4067-bffa-7d017ef783ce",
   "metadata": {},
   "outputs": [],
   "source": [
    "import pandas as pd"
   ]
  },
  {
   "cell_type": "code",
   "execution_count": 4,
   "id": "2676cba1-34ef-41e7-87a6-3e40acb5913e",
   "metadata": {},
   "outputs": [
    {
     "data": {
      "text/html": [
       "<div>\n",
       "<style scoped>\n",
       "    .dataframe tbody tr th:only-of-type {\n",
       "        vertical-align: middle;\n",
       "    }\n",
       "\n",
       "    .dataframe tbody tr th {\n",
       "        vertical-align: top;\n",
       "    }\n",
       "\n",
       "    .dataframe thead th {\n",
       "        text-align: right;\n",
       "    }\n",
       "</style>\n",
       "<table border=\"1\" class=\"dataframe\">\n",
       "  <thead>\n",
       "    <tr style=\"text-align: right;\">\n",
       "      <th></th>\n",
       "      <th>Transaction ID</th>\n",
       "      <th>Date</th>\n",
       "      <th>Product Category</th>\n",
       "      <th>Product Name</th>\n",
       "      <th>Units Sold</th>\n",
       "      <th>Unit Price</th>\n",
       "      <th>Total Revenue</th>\n",
       "      <th>Region</th>\n",
       "      <th>Payment Method</th>\n",
       "    </tr>\n",
       "  </thead>\n",
       "  <tbody>\n",
       "    <tr>\n",
       "      <th>0</th>\n",
       "      <td>10001</td>\n",
       "      <td>01-01-2024</td>\n",
       "      <td>Electronics</td>\n",
       "      <td>iPhone 14 Pro</td>\n",
       "      <td>2</td>\n",
       "      <td>999.99</td>\n",
       "      <td>1999.98</td>\n",
       "      <td>North America</td>\n",
       "      <td>Credit Card</td>\n",
       "    </tr>\n",
       "    <tr>\n",
       "      <th>1</th>\n",
       "      <td>10002</td>\n",
       "      <td>02-01-2024</td>\n",
       "      <td>Home Appliances</td>\n",
       "      <td>Dyson V11 Vacuum</td>\n",
       "      <td>1</td>\n",
       "      <td>499.99</td>\n",
       "      <td>499.99</td>\n",
       "      <td>Europe</td>\n",
       "      <td>PayPal</td>\n",
       "    </tr>\n",
       "    <tr>\n",
       "      <th>2</th>\n",
       "      <td>10003</td>\n",
       "      <td>03-01-2024</td>\n",
       "      <td>Clothing</td>\n",
       "      <td>Levi's 501 Jeans</td>\n",
       "      <td>3</td>\n",
       "      <td>69.99</td>\n",
       "      <td>209.97</td>\n",
       "      <td>Asia</td>\n",
       "      <td>Debit Card</td>\n",
       "    </tr>\n",
       "    <tr>\n",
       "      <th>3</th>\n",
       "      <td>10004</td>\n",
       "      <td>04-01-2024</td>\n",
       "      <td>Books</td>\n",
       "      <td>The Da Vinci Code</td>\n",
       "      <td>4</td>\n",
       "      <td>15.99</td>\n",
       "      <td>63.96</td>\n",
       "      <td>North America</td>\n",
       "      <td>Credit Card</td>\n",
       "    </tr>\n",
       "    <tr>\n",
       "      <th>4</th>\n",
       "      <td>10005</td>\n",
       "      <td>05-01-2024</td>\n",
       "      <td>Beauty Products</td>\n",
       "      <td>Neutrogena Skincare Set</td>\n",
       "      <td>1</td>\n",
       "      <td>89.99</td>\n",
       "      <td>89.99</td>\n",
       "      <td>Europe</td>\n",
       "      <td>PayPal</td>\n",
       "    </tr>\n",
       "    <tr>\n",
       "      <th>...</th>\n",
       "      <td>...</td>\n",
       "      <td>...</td>\n",
       "      <td>...</td>\n",
       "      <td>...</td>\n",
       "      <td>...</td>\n",
       "      <td>...</td>\n",
       "      <td>...</td>\n",
       "      <td>...</td>\n",
       "      <td>...</td>\n",
       "    </tr>\n",
       "    <tr>\n",
       "      <th>235</th>\n",
       "      <td>10236</td>\n",
       "      <td>23-08-2024</td>\n",
       "      <td>Home Appliances</td>\n",
       "      <td>Nespresso Vertuo Next Coffee and Espresso Maker</td>\n",
       "      <td>1</td>\n",
       "      <td>159.99</td>\n",
       "      <td>159.99</td>\n",
       "      <td>Europe</td>\n",
       "      <td>PayPal</td>\n",
       "    </tr>\n",
       "    <tr>\n",
       "      <th>236</th>\n",
       "      <td>10237</td>\n",
       "      <td>24-08-2024</td>\n",
       "      <td>Clothing</td>\n",
       "      <td>Nike Air Force 1 Sneakers</td>\n",
       "      <td>3</td>\n",
       "      <td>90.00</td>\n",
       "      <td>270.00</td>\n",
       "      <td>Asia</td>\n",
       "      <td>Debit Card</td>\n",
       "    </tr>\n",
       "    <tr>\n",
       "      <th>237</th>\n",
       "      <td>10238</td>\n",
       "      <td>25-08-2024</td>\n",
       "      <td>Books</td>\n",
       "      <td>The Handmaid's Tale by Margaret Atwood</td>\n",
       "      <td>3</td>\n",
       "      <td>10.99</td>\n",
       "      <td>32.97</td>\n",
       "      <td>North America</td>\n",
       "      <td>Credit Card</td>\n",
       "    </tr>\n",
       "    <tr>\n",
       "      <th>238</th>\n",
       "      <td>10239</td>\n",
       "      <td>26-08-2024</td>\n",
       "      <td>Beauty Products</td>\n",
       "      <td>Sunday Riley Luna Sleeping Night Oil</td>\n",
       "      <td>1</td>\n",
       "      <td>55.00</td>\n",
       "      <td>55.00</td>\n",
       "      <td>Europe</td>\n",
       "      <td>PayPal</td>\n",
       "    </tr>\n",
       "    <tr>\n",
       "      <th>239</th>\n",
       "      <td>10240</td>\n",
       "      <td>27-08-2024</td>\n",
       "      <td>Sports</td>\n",
       "      <td>Yeti Rambler 20 oz Tumbler</td>\n",
       "      <td>2</td>\n",
       "      <td>29.99</td>\n",
       "      <td>59.98</td>\n",
       "      <td>Asia</td>\n",
       "      <td>Credit Card</td>\n",
       "    </tr>\n",
       "  </tbody>\n",
       "</table>\n",
       "<p>240 rows × 9 columns</p>\n",
       "</div>"
      ],
      "text/plain": [
       "     Transaction ID        Date Product Category  \\\n",
       "0             10001  01-01-2024      Electronics   \n",
       "1             10002  02-01-2024  Home Appliances   \n",
       "2             10003  03-01-2024         Clothing   \n",
       "3             10004  04-01-2024            Books   \n",
       "4             10005  05-01-2024  Beauty Products   \n",
       "..              ...         ...              ...   \n",
       "235           10236  23-08-2024  Home Appliances   \n",
       "236           10237  24-08-2024         Clothing   \n",
       "237           10238  25-08-2024            Books   \n",
       "238           10239  26-08-2024  Beauty Products   \n",
       "239           10240  27-08-2024           Sports   \n",
       "\n",
       "                                        Product Name  Units Sold  Unit Price  \\\n",
       "0                                      iPhone 14 Pro           2      999.99   \n",
       "1                                   Dyson V11 Vacuum           1      499.99   \n",
       "2                                   Levi's 501 Jeans           3       69.99   \n",
       "3                                  The Da Vinci Code           4       15.99   \n",
       "4                            Neutrogena Skincare Set           1       89.99   \n",
       "..                                               ...         ...         ...   \n",
       "235  Nespresso Vertuo Next Coffee and Espresso Maker           1      159.99   \n",
       "236                        Nike Air Force 1 Sneakers           3       90.00   \n",
       "237           The Handmaid's Tale by Margaret Atwood           3       10.99   \n",
       "238             Sunday Riley Luna Sleeping Night Oil           1       55.00   \n",
       "239                       Yeti Rambler 20 oz Tumbler           2       29.99   \n",
       "\n",
       "     Total Revenue         Region Payment Method  \n",
       "0          1999.98  North America    Credit Card  \n",
       "1           499.99         Europe         PayPal  \n",
       "2           209.97           Asia     Debit Card  \n",
       "3            63.96  North America    Credit Card  \n",
       "4            89.99         Europe         PayPal  \n",
       "..             ...            ...            ...  \n",
       "235         159.99         Europe         PayPal  \n",
       "236         270.00           Asia     Debit Card  \n",
       "237          32.97  North America    Credit Card  \n",
       "238          55.00         Europe         PayPal  \n",
       "239          59.98           Asia    Credit Card  \n",
       "\n",
       "[240 rows x 9 columns]"
      ]
     },
     "execution_count": 4,
     "metadata": {},
     "output_type": "execute_result"
    }
   ],
   "source": [
    "sales = pd.read_csv(\"Online_sales.csv\")\n",
    "sales"
   ]
  },
  {
   "cell_type": "markdown",
   "id": "178685e5-f814-4dce-b080-7df9e68c09dc",
   "metadata": {},
   "source": [
    "<h1>To check whether the data frame contains null values in cells </h1>"
   ]
  },
  {
   "cell_type": "code",
   "execution_count": 4,
   "id": "adaa1c8a-97c6-495d-8a99-1007f5a3338f",
   "metadata": {},
   "outputs": [
    {
     "data": {
      "text/plain": [
       "Transaction ID      0\n",
       "Date                0\n",
       "Product Category    0\n",
       "Product Name        0\n",
       "Units Sold          0\n",
       "Unit Price          0\n",
       "Total Revenue       0\n",
       "Region              0\n",
       "Payment Method      0\n",
       "dtype: int64"
      ]
     },
     "execution_count": 4,
     "metadata": {},
     "output_type": "execute_result"
    }
   ],
   "source": [
    "sales.isnull().sum()"
   ]
  },
  {
   "cell_type": "markdown",
   "id": "9d32b118-c3ff-4940-bc7d-67d139c25fb5",
   "metadata": {},
   "source": [
    "<h3> To check the categorical terms which we have in the data_frame</h3>"
   ]
  },
  {
   "cell_type": "code",
   "execution_count": 5,
   "id": "8aababf1-36b3-4de9-a9f3-9e7a7f1188a9",
   "metadata": {},
   "outputs": [
    {
     "data": {
      "text/plain": [
       "array(['Electronics', 'Home Appliances', 'Clothing', 'Books',\n",
       "       'Beauty Products', 'Sports'], dtype=object)"
      ]
     },
     "execution_count": 5,
     "metadata": {},
     "output_type": "execute_result"
    }
   ],
   "source": [
    "sales['Product Category'].unique()"
   ]
  },
  {
   "cell_type": "code",
   "execution_count": 6,
   "id": "59a7ac4b-ee48-447e-aab5-1e89e93b6a4f",
   "metadata": {},
   "outputs": [
    {
     "data": {
      "text/plain": [
       "array(['Credit Card', 'PayPal', 'Debit Card'], dtype=object)"
      ]
     },
     "execution_count": 6,
     "metadata": {},
     "output_type": "execute_result"
    }
   ],
   "source": [
    "sales['Payment Method'].unique()"
   ]
  },
  {
   "cell_type": "code",
   "execution_count": 7,
   "id": "90ade6b5-4c1b-458c-bc51-d5a32f69236d",
   "metadata": {},
   "outputs": [
    {
     "data": {
      "text/plain": [
       "array(['North America', 'Europe', 'Asia'], dtype=object)"
      ]
     },
     "execution_count": 7,
     "metadata": {},
     "output_type": "execute_result"
    }
   ],
   "source": [
    "sales['Region'].unique()"
   ]
  },
  {
   "cell_type": "code",
   "execution_count": 8,
   "id": "87b78938-dc6b-4dbe-a265-1789b95e12e8",
   "metadata": {},
   "outputs": [
    {
     "data": {
      "text/plain": [
       "Transaction ID        int64\n",
       "Date                 object\n",
       "Product Category     object\n",
       "Product Name         object\n",
       "Units Sold            int64\n",
       "Unit Price          float64\n",
       "Total Revenue       float64\n",
       "Region               object\n",
       "Payment Method       object\n",
       "dtype: object"
      ]
     },
     "execution_count": 8,
     "metadata": {},
     "output_type": "execute_result"
    }
   ],
   "source": [
    "sales.dtypes"
   ]
  },
  {
   "cell_type": "code",
   "execution_count": 9,
   "id": "a525727d-5ea0-452e-8651-c51b6f4764de",
   "metadata": {},
   "outputs": [
    {
     "data": {
      "text/html": [
       "<div>\n",
       "<style scoped>\n",
       "    .dataframe tbody tr th:only-of-type {\n",
       "        vertical-align: middle;\n",
       "    }\n",
       "\n",
       "    .dataframe tbody tr th {\n",
       "        vertical-align: top;\n",
       "    }\n",
       "\n",
       "    .dataframe thead th {\n",
       "        text-align: right;\n",
       "    }\n",
       "</style>\n",
       "<table border=\"1\" class=\"dataframe\">\n",
       "  <thead>\n",
       "    <tr style=\"text-align: right;\">\n",
       "      <th></th>\n",
       "      <th>Transaction ID</th>\n",
       "      <th>Units Sold</th>\n",
       "      <th>Unit Price</th>\n",
       "      <th>Total Revenue</th>\n",
       "    </tr>\n",
       "  </thead>\n",
       "  <tbody>\n",
       "    <tr>\n",
       "      <th>0</th>\n",
       "      <td>10001</td>\n",
       "      <td>2</td>\n",
       "      <td>999.99</td>\n",
       "      <td>1999.98</td>\n",
       "    </tr>\n",
       "    <tr>\n",
       "      <th>1</th>\n",
       "      <td>10002</td>\n",
       "      <td>1</td>\n",
       "      <td>499.99</td>\n",
       "      <td>499.99</td>\n",
       "    </tr>\n",
       "    <tr>\n",
       "      <th>2</th>\n",
       "      <td>10003</td>\n",
       "      <td>3</td>\n",
       "      <td>69.99</td>\n",
       "      <td>209.97</td>\n",
       "    </tr>\n",
       "    <tr>\n",
       "      <th>3</th>\n",
       "      <td>10004</td>\n",
       "      <td>4</td>\n",
       "      <td>15.99</td>\n",
       "      <td>63.96</td>\n",
       "    </tr>\n",
       "    <tr>\n",
       "      <th>4</th>\n",
       "      <td>10005</td>\n",
       "      <td>1</td>\n",
       "      <td>89.99</td>\n",
       "      <td>89.99</td>\n",
       "    </tr>\n",
       "    <tr>\n",
       "      <th>...</th>\n",
       "      <td>...</td>\n",
       "      <td>...</td>\n",
       "      <td>...</td>\n",
       "      <td>...</td>\n",
       "    </tr>\n",
       "    <tr>\n",
       "      <th>235</th>\n",
       "      <td>10236</td>\n",
       "      <td>1</td>\n",
       "      <td>159.99</td>\n",
       "      <td>159.99</td>\n",
       "    </tr>\n",
       "    <tr>\n",
       "      <th>236</th>\n",
       "      <td>10237</td>\n",
       "      <td>3</td>\n",
       "      <td>90.00</td>\n",
       "      <td>270.00</td>\n",
       "    </tr>\n",
       "    <tr>\n",
       "      <th>237</th>\n",
       "      <td>10238</td>\n",
       "      <td>3</td>\n",
       "      <td>10.99</td>\n",
       "      <td>32.97</td>\n",
       "    </tr>\n",
       "    <tr>\n",
       "      <th>238</th>\n",
       "      <td>10239</td>\n",
       "      <td>1</td>\n",
       "      <td>55.00</td>\n",
       "      <td>55.00</td>\n",
       "    </tr>\n",
       "    <tr>\n",
       "      <th>239</th>\n",
       "      <td>10240</td>\n",
       "      <td>2</td>\n",
       "      <td>29.99</td>\n",
       "      <td>59.98</td>\n",
       "    </tr>\n",
       "  </tbody>\n",
       "</table>\n",
       "<p>240 rows × 4 columns</p>\n",
       "</div>"
      ],
      "text/plain": [
       "     Transaction ID  Units Sold  Unit Price  Total Revenue\n",
       "0             10001           2      999.99        1999.98\n",
       "1             10002           1      499.99         499.99\n",
       "2             10003           3       69.99         209.97\n",
       "3             10004           4       15.99          63.96\n",
       "4             10005           1       89.99          89.99\n",
       "..              ...         ...         ...            ...\n",
       "235           10236           1      159.99         159.99\n",
       "236           10237           3       90.00         270.00\n",
       "237           10238           3       10.99          32.97\n",
       "238           10239           1       55.00          55.00\n",
       "239           10240           2       29.99          59.98\n",
       "\n",
       "[240 rows x 4 columns]"
      ]
     },
     "execution_count": 9,
     "metadata": {},
     "output_type": "execute_result"
    }
   ],
   "source": [
    "numeric_col=sales.select_dtypes(include = ['int64','float64'])\n",
    "numeric_col"
   ]
  },
  {
   "cell_type": "code",
   "execution_count": 10,
   "id": "711f6411-462b-4f2a-ada8-aef455264dfd",
   "metadata": {},
   "outputs": [
    {
     "data": {
      "text/html": [
       "<div>\n",
       "<style scoped>\n",
       "    .dataframe tbody tr th:only-of-type {\n",
       "        vertical-align: middle;\n",
       "    }\n",
       "\n",
       "    .dataframe tbody tr th {\n",
       "        vertical-align: top;\n",
       "    }\n",
       "\n",
       "    .dataframe thead th {\n",
       "        text-align: right;\n",
       "    }\n",
       "</style>\n",
       "<table border=\"1\" class=\"dataframe\">\n",
       "  <thead>\n",
       "    <tr style=\"text-align: right;\">\n",
       "      <th></th>\n",
       "      <th>Date</th>\n",
       "      <th>Product Category</th>\n",
       "      <th>Product Name</th>\n",
       "      <th>Units Sold</th>\n",
       "      <th>Unit Price</th>\n",
       "      <th>Total Revenue</th>\n",
       "      <th>Region</th>\n",
       "      <th>Payment Method</th>\n",
       "    </tr>\n",
       "  </thead>\n",
       "  <tbody>\n",
       "    <tr>\n",
       "      <th>0</th>\n",
       "      <td>01-01-2024</td>\n",
       "      <td>Electronics</td>\n",
       "      <td>iPhone 14 Pro</td>\n",
       "      <td>2</td>\n",
       "      <td>999.99</td>\n",
       "      <td>1999.98</td>\n",
       "      <td>North America</td>\n",
       "      <td>Credit Card</td>\n",
       "    </tr>\n",
       "    <tr>\n",
       "      <th>1</th>\n",
       "      <td>02-01-2024</td>\n",
       "      <td>Home Appliances</td>\n",
       "      <td>Dyson V11 Vacuum</td>\n",
       "      <td>1</td>\n",
       "      <td>499.99</td>\n",
       "      <td>499.99</td>\n",
       "      <td>Europe</td>\n",
       "      <td>PayPal</td>\n",
       "    </tr>\n",
       "    <tr>\n",
       "      <th>2</th>\n",
       "      <td>03-01-2024</td>\n",
       "      <td>Clothing</td>\n",
       "      <td>Levi's 501 Jeans</td>\n",
       "      <td>3</td>\n",
       "      <td>69.99</td>\n",
       "      <td>209.97</td>\n",
       "      <td>Asia</td>\n",
       "      <td>Debit Card</td>\n",
       "    </tr>\n",
       "    <tr>\n",
       "      <th>3</th>\n",
       "      <td>04-01-2024</td>\n",
       "      <td>Books</td>\n",
       "      <td>The Da Vinci Code</td>\n",
       "      <td>4</td>\n",
       "      <td>15.99</td>\n",
       "      <td>63.96</td>\n",
       "      <td>North America</td>\n",
       "      <td>Credit Card</td>\n",
       "    </tr>\n",
       "    <tr>\n",
       "      <th>4</th>\n",
       "      <td>05-01-2024</td>\n",
       "      <td>Beauty Products</td>\n",
       "      <td>Neutrogena Skincare Set</td>\n",
       "      <td>1</td>\n",
       "      <td>89.99</td>\n",
       "      <td>89.99</td>\n",
       "      <td>Europe</td>\n",
       "      <td>PayPal</td>\n",
       "    </tr>\n",
       "    <tr>\n",
       "      <th>...</th>\n",
       "      <td>...</td>\n",
       "      <td>...</td>\n",
       "      <td>...</td>\n",
       "      <td>...</td>\n",
       "      <td>...</td>\n",
       "      <td>...</td>\n",
       "      <td>...</td>\n",
       "      <td>...</td>\n",
       "    </tr>\n",
       "    <tr>\n",
       "      <th>235</th>\n",
       "      <td>23-08-2024</td>\n",
       "      <td>Home Appliances</td>\n",
       "      <td>Nespresso Vertuo Next Coffee and Espresso Maker</td>\n",
       "      <td>1</td>\n",
       "      <td>159.99</td>\n",
       "      <td>159.99</td>\n",
       "      <td>Europe</td>\n",
       "      <td>PayPal</td>\n",
       "    </tr>\n",
       "    <tr>\n",
       "      <th>236</th>\n",
       "      <td>24-08-2024</td>\n",
       "      <td>Clothing</td>\n",
       "      <td>Nike Air Force 1 Sneakers</td>\n",
       "      <td>3</td>\n",
       "      <td>90.00</td>\n",
       "      <td>270.00</td>\n",
       "      <td>Asia</td>\n",
       "      <td>Debit Card</td>\n",
       "    </tr>\n",
       "    <tr>\n",
       "      <th>237</th>\n",
       "      <td>25-08-2024</td>\n",
       "      <td>Books</td>\n",
       "      <td>The Handmaid's Tale by Margaret Atwood</td>\n",
       "      <td>3</td>\n",
       "      <td>10.99</td>\n",
       "      <td>32.97</td>\n",
       "      <td>North America</td>\n",
       "      <td>Credit Card</td>\n",
       "    </tr>\n",
       "    <tr>\n",
       "      <th>238</th>\n",
       "      <td>26-08-2024</td>\n",
       "      <td>Beauty Products</td>\n",
       "      <td>Sunday Riley Luna Sleeping Night Oil</td>\n",
       "      <td>1</td>\n",
       "      <td>55.00</td>\n",
       "      <td>55.00</td>\n",
       "      <td>Europe</td>\n",
       "      <td>PayPal</td>\n",
       "    </tr>\n",
       "    <tr>\n",
       "      <th>239</th>\n",
       "      <td>27-08-2024</td>\n",
       "      <td>Sports</td>\n",
       "      <td>Yeti Rambler 20 oz Tumbler</td>\n",
       "      <td>2</td>\n",
       "      <td>29.99</td>\n",
       "      <td>59.98</td>\n",
       "      <td>Asia</td>\n",
       "      <td>Credit Card</td>\n",
       "    </tr>\n",
       "  </tbody>\n",
       "</table>\n",
       "<p>240 rows × 8 columns</p>\n",
       "</div>"
      ],
      "text/plain": [
       "           Date Product Category  \\\n",
       "0    01-01-2024      Electronics   \n",
       "1    02-01-2024  Home Appliances   \n",
       "2    03-01-2024         Clothing   \n",
       "3    04-01-2024            Books   \n",
       "4    05-01-2024  Beauty Products   \n",
       "..          ...              ...   \n",
       "235  23-08-2024  Home Appliances   \n",
       "236  24-08-2024         Clothing   \n",
       "237  25-08-2024            Books   \n",
       "238  26-08-2024  Beauty Products   \n",
       "239  27-08-2024           Sports   \n",
       "\n",
       "                                        Product Name  Units Sold  Unit Price  \\\n",
       "0                                      iPhone 14 Pro           2      999.99   \n",
       "1                                   Dyson V11 Vacuum           1      499.99   \n",
       "2                                   Levi's 501 Jeans           3       69.99   \n",
       "3                                  The Da Vinci Code           4       15.99   \n",
       "4                            Neutrogena Skincare Set           1       89.99   \n",
       "..                                               ...         ...         ...   \n",
       "235  Nespresso Vertuo Next Coffee and Espresso Maker           1      159.99   \n",
       "236                        Nike Air Force 1 Sneakers           3       90.00   \n",
       "237           The Handmaid's Tale by Margaret Atwood           3       10.99   \n",
       "238             Sunday Riley Luna Sleeping Night Oil           1       55.00   \n",
       "239                       Yeti Rambler 20 oz Tumbler           2       29.99   \n",
       "\n",
       "     Total Revenue         Region Payment Method  \n",
       "0          1999.98  North America    Credit Card  \n",
       "1           499.99         Europe         PayPal  \n",
       "2           209.97           Asia     Debit Card  \n",
       "3            63.96  North America    Credit Card  \n",
       "4            89.99         Europe         PayPal  \n",
       "..             ...            ...            ...  \n",
       "235         159.99         Europe         PayPal  \n",
       "236         270.00           Asia     Debit Card  \n",
       "237          32.97  North America    Credit Card  \n",
       "238          55.00         Europe         PayPal  \n",
       "239          59.98           Asia    Credit Card  \n",
       "\n",
       "[240 rows x 8 columns]"
      ]
     },
     "execution_count": 10,
     "metadata": {},
     "output_type": "execute_result"
    }
   ],
   "source": [
    "sales = sales.drop(\"Transaction ID\", axis = 1) \n",
    "sales"
   ]
  },
  {
   "cell_type": "markdown",
   "id": "9fd24f8a-b264-4b24-91b1-d4959e31f957",
   "metadata": {},
   "source": [
    "<h1> To create bar plot to know maximum revenue of products</h1>"
   ]
  },
  {
   "cell_type": "code",
   "execution_count": 5,
   "id": "efb54968-0b67-4b64-ad78-4fbae065dc33",
   "metadata": {},
   "outputs": [
    {
     "data": {
      "image/png": "[encoded data removed]",
      "text/plain": [
       "<Figure size 640x480 with 1 Axes>"
      ]
     },
     "metadata": {},
     "output_type": "display_data"
    }
   ],
   "source": [
    "import matplotlib.pyplot as plt\n",
    "import numpy as np\n",
    "import seaborn as sns\n",
    "bar_chart = plt.bar('Product Category','Total Revenue',color = 'gray',data = sales )\n",
    "plt.title(\"Chart of product category Vs total revenue\")\n",
    "plt.tight_layout()\n",
    "plt.rcParams[\"figure.figsize\"] = (8,4)\n",
    "plt.xticks(rotation=45)\n",
    "plt.show()"
   ]
  },
  {
   "cell_type": "code",
   "execution_count": 12,
   "id": "6d62baf7-5356-4c6b-9e89-482433a76667",
   "metadata": {},
   "outputs": [
    {
     "data": {
      "image/png": "[encoded data removed]",
      "text/plain": [
       "<Figure size 800x400 with 1 Axes>"
      ]
     },
     "metadata": {},
     "output_type": "display_data"
    }
   ],
   "source": [
    "bar_chart = plt.bar('Region','Total Revenue',color = 'darkgray',data = sales )\n",
    "plt.title(\"Chart of Region Vs total revenue\")\n",
    "plt.tight_layout()\n",
    "plt.rcParams[\"figure.figsize\"] = (8,4)\n",
    "plt.xticks(rotation=35)\n",
    "plt.show()"
   ]
  },
  {
   "cell_type": "code",
   "execution_count": 13,
   "id": "e8f4c2ff-71c5-4e98-9236-8f56b982d3a3",
   "metadata": {},
   "outputs": [
    {
     "data": {
      "image/png": "[encoded data removed]",
      "text/plain": [
       "<Figure size 800x400 with 1 Axes>"
      ]
     },
     "metadata": {},
     "output_type": "display_data"
    }
   ],
   "source": [
    "bar_chart = plt.bar('Region','Product Category',color = 'gray',data = sales )\n",
    "plt.title(\"Chart of product category Vs region\")\n",
    "plt.tight_layout()\n",
    "plt.rcParams[\"figure.figsize\"] = (8,4)\n",
    "plt.xticks(rotation=90)\n",
    "plt.show()"
   ]
  },
  {
   "cell_type": "code",
   "execution_count": 14,
   "id": "2d634c1b-389f-4150-b855-5aceb00a95f4",
   "metadata": {},
   "outputs": [
    {
     "data": {
      "image/png": "[encoded data removed]",
      "text/plain": [
       "<Figure size 800x400 with 1 Axes>"
      ]
     },
     "metadata": {},
     "output_type": "display_data"
    }
   ],
   "source": [
    "bar_chart = plt.bar('Payment Method','Product Category',color = 'gray',data = sales)\n",
    "plt.title(\"Bar chart of product category and payment method\")\n",
    "plt.tight_layout()\n",
    "plt.rcParams[\"figure.figsize\"] = (8,4)\n",
    "plt.xticks(rotation=90)\n",
    "plt.show()"
   ]
  },
  {
   "cell_type": "code",
   "execution_count": 7,
   "id": "ed390958-07dc-4e09-91a9-00da79e16dda",
   "metadata": {},
   "outputs": [
    {
     "data": {
      "image/png": "[encoded data removed]",
      "text/plain": [
       "<Figure size 800x400 with 1 Axes>"
      ]
     },
     "metadata": {},
     "output_type": "display_data"
    }
   ],
   "source": [
    "bar_chart = plt.bar('Payment Method','Region',color = 'gray',data = sales)"
   ]
  },
  {
   "cell_type": "code",
   "execution_count": 16,
   "id": "2724666e-87b7-42cf-a3c6-4ae7cf70538f",
   "metadata": {},
   "outputs": [
    {
     "data": {
      "image/png": "[encoded data removed]",
      "text/plain": [
       "<Figure size 800x400 with 1 Axes>"
      ]
     },
     "metadata": {},
     "output_type": "display_data"
    }
   ],
   "source": [
    "sns.scatterplot( x='Unit Price', y= 'Total Revenue', data = sales)\n",
    "plt.title(\"Scatter plot\")\n",
    "plt.show()"
   ]
  },
  {
   "cell_type": "markdown",
   "id": "42d1a36f-24b6-48d2-b15c-2196ed3bc666",
   "metadata": {},
   "source": [
    "# Scatter plot says the data are higly corelated with each other values \n",
    "# once unit price increase revenue also increased "
   ]
  },
  {
   "cell_type": "code",
   "execution_count": null,
   "id": "19799cb0-dd8f-4b74-b6f9-92bdf23fcad5",
   "metadata": {},
   "outputs": [],
   "source": []
  },
  {
   "cell_type": "code",
   "execution_count": 17,
   "id": "2d2151c2-bf8c-4b30-b206-615fa7c006b2",
   "metadata": {},
   "outputs": [
    {
     "data": {
      "image/png": "[encoded data removed]",
      "text/plain": [
       "<Figure size 500x300 with 2 Axes>"
      ]
     },
     "metadata": {},
     "output_type": "display_data"
    }
   ],
   "source": [
    "selected_col = ['Unit Price','Total Revenue']\n",
    "df_selcted = sales[selected_col]\n",
    "correlation  = df_selcted.corr()\n",
    "plt.figure(figsize=(5, 3))\n",
    "sns.heatmap(correlation, annot = True , cmap = 'coolwarm' , linewidth = 5, fmt = '.2f')\n",
    "plt.title('Heatmap of unit_price and total_revenue')\n",
    "plt.show()"
   ]
  },
  {
   "cell_type": "markdown",
   "id": "bf0d8a07-ad9b-4aab-a614-0033cbb88c4e",
   "metadata": {},
   "source": [
    "# heatmap shows the corelation value of selected column "
   ]
  },
  {
   "cell_type": "markdown",
   "id": "766e4cc7-03e8-4469-9602-881a16c5f6d1",
   "metadata": {},
   "source": [
    "# Above to check minimum , maximum , meadian value of selcted column"
   ]
  },
  {
   "cell_type": "code",
   "execution_count": 18,
   "id": "b58b821b-3472-4a43-ba91-0540ebdbb717",
   "metadata": {},
   "outputs": [
    {
     "data": {
      "image/png": "[encoded data removed]",
      "text/plain": [
       "<Figure size 800x400 with 1 Axes>"
      ]
     },
     "metadata": {},
     "output_type": "display_data"
    }
   ],
   "source": [
    "sns.boxplot(data= sales, x=\"Product Category\", y=\"Total Revenue\")\n",
    "plt.show()"
   ]
  },
  {
   "cell_type": "code",
   "execution_count": 19,
   "id": "c35da124-c135-4103-8ece-8dd5df1743ea",
   "metadata": {},
   "outputs": [],
   "source": [
    "elec = sales[sales['Product Category']=='Electronics']"
   ]
  },
  {
   "cell_type": "code",
   "execution_count": 20,
   "id": "940cb53b-39af-484c-ae85-1f76886cccad",
   "metadata": {},
   "outputs": [],
   "source": [
    "sport = sales[sales['Product Category']=='Sports']"
   ]
  },
  {
   "cell_type": "code",
   "execution_count": 21,
   "id": "370ecb75-6057-4924-ae38-0b302ee252b5",
   "metadata": {},
   "outputs": [],
   "source": [
    "home_app = sales[sales['Product Category']=='Home Appliances']"
   ]
  },
  {
   "cell_type": "code",
   "execution_count": 22,
   "id": "d79c08fd-614e-403e-b369-a01165588f12",
   "metadata": {},
   "outputs": [],
   "source": [
    "cloth = sales[sales['Product Category']=='Clothing']"
   ]
  },
  {
   "cell_type": "code",
   "execution_count": 23,
   "id": "faca9320-dad1-4636-a2f6-872f36f38d12",
   "metadata": {},
   "outputs": [],
   "source": [
    "beauty = sales[sales['Product Category']=='Beauty Products']"
   ]
  },
  {
   "cell_type": "code",
   "execution_count": 24,
   "id": "c88fb288-670a-4757-8503-06e909f11968",
   "metadata": {},
   "outputs": [],
   "source": [
    "book = sales[sales['Product Category']=='Books']"
   ]
  },
  {
   "cell_type": "code",
   "execution_count": 25,
   "id": "32e378f1-0a31-44b4-9f87-3f0ddd3221cf",
   "metadata": {},
   "outputs": [
    {
     "data": {
      "text/html": [
       "<div>\n",
       "<style scoped>\n",
       "    .dataframe tbody tr th:only-of-type {\n",
       "        vertical-align: middle;\n",
       "    }\n",
       "\n",
       "    .dataframe tbody tr th {\n",
       "        vertical-align: top;\n",
       "    }\n",
       "\n",
       "    .dataframe thead th {\n",
       "        text-align: right;\n",
       "    }\n",
       "</style>\n",
       "<table border=\"1\" class=\"dataframe\">\n",
       "  <thead>\n",
       "    <tr style=\"text-align: right;\">\n",
       "      <th></th>\n",
       "      <th>Units Sold</th>\n",
       "      <th>Unit Price</th>\n",
       "      <th>Total Revenue</th>\n",
       "    </tr>\n",
       "  </thead>\n",
       "  <tbody>\n",
       "    <tr>\n",
       "      <th>count</th>\n",
       "      <td>240.000000</td>\n",
       "      <td>240.000000</td>\n",
       "      <td>240.000000</td>\n",
       "    </tr>\n",
       "    <tr>\n",
       "      <th>mean</th>\n",
       "      <td>2.158333</td>\n",
       "      <td>236.395583</td>\n",
       "      <td>335.699375</td>\n",
       "    </tr>\n",
       "    <tr>\n",
       "      <th>std</th>\n",
       "      <td>1.322454</td>\n",
       "      <td>429.446695</td>\n",
       "      <td>485.804469</td>\n",
       "    </tr>\n",
       "    <tr>\n",
       "      <th>min</th>\n",
       "      <td>1.000000</td>\n",
       "      <td>6.500000</td>\n",
       "      <td>6.500000</td>\n",
       "    </tr>\n",
       "    <tr>\n",
       "      <th>25%</th>\n",
       "      <td>1.000000</td>\n",
       "      <td>29.500000</td>\n",
       "      <td>62.965000</td>\n",
       "    </tr>\n",
       "    <tr>\n",
       "      <th>50%</th>\n",
       "      <td>2.000000</td>\n",
       "      <td>89.990000</td>\n",
       "      <td>179.970000</td>\n",
       "    </tr>\n",
       "    <tr>\n",
       "      <th>75%</th>\n",
       "      <td>3.000000</td>\n",
       "      <td>249.990000</td>\n",
       "      <td>399.225000</td>\n",
       "    </tr>\n",
       "    <tr>\n",
       "      <th>max</th>\n",
       "      <td>10.000000</td>\n",
       "      <td>3899.990000</td>\n",
       "      <td>3899.990000</td>\n",
       "    </tr>\n",
       "  </tbody>\n",
       "</table>\n",
       "</div>"
      ],
      "text/plain": [
       "       Units Sold   Unit Price  Total Revenue\n",
       "count  240.000000   240.000000     240.000000\n",
       "mean     2.158333   236.395583     335.699375\n",
       "std      1.322454   429.446695     485.804469\n",
       "min      1.000000     6.500000       6.500000\n",
       "25%      1.000000    29.500000      62.965000\n",
       "50%      2.000000    89.990000     179.970000\n",
       "75%      3.000000   249.990000     399.225000\n",
       "max     10.000000  3899.990000    3899.990000"
      ]
     },
     "execution_count": 25,
     "metadata": {},
     "output_type": "execute_result"
    }
   ],
   "source": [
    "sales.describe()"
   ]
  },
  {
   "cell_type": "code",
   "execution_count": 31,
   "id": "f431c1b4-69f9-4a78-8231-9106029c4b23",
   "metadata": {},
   "outputs": [
    {
     "name": "stdout",
     "output_type": "stream",
     "text": [
      "T-statistic:0.591457072124799\n",
      "P-value:0.5547732086428627\n",
      "Faild to reject null hypothesis at alpha = 0.05\n"
     ]
    }
   ],
   "source": [
    "from scipy.stats import ttest_1samp\n",
    "hm = 220  # HYPOTHESISED MEAN \n",
    "t_stat, p_value = ttest_1samp(sales['Unit Price'],hm)\n",
    "alpha = 0.05 # acceptance error percent\n",
    "print(f\"T-statistic:{t_stat}\")\n",
    "print(f\"P-value:{p_value}\")\n",
    "if p_value<alpha:\n",
    "    print(f\"Reject null hypothesis at alpha ={alpha}\")\n",
    "else:\n",
    "    print(f\"Faild to reject null hypothesis at alpha = {alpha}\")\n",
    "    "
   ]
  },
  {
   "cell_type": "code",
   "execution_count": 27,
   "id": "c3de994a-8038-4089-b986-6342308c90bf",
   "metadata": {},
   "outputs": [],
   "source": [
    "import scipy.stats as stats\n",
    "import numpy as np"
   ]
  },
  {
   "cell_type": "code",
   "execution_count": null,
   "id": "04925ab1-b493-4f90-851b-3a3e30e19211",
   "metadata": {},
   "outputs": [],
   "source": [
    "elec = sales[sales['Product Category']=='Electronics']\n",
    "sport = sales[sales['Product Category']=='Sports']\n",
    "home_app = sales[sales['Product Category']=='Home Appliances']\n",
    "cloth = sales[sales['Product Category']=='Clothing']\n",
    "beauty = sales[sales['Product Category']=='Beauty Products']\n",
    "book = sales[sales['Product Category']=='Books']"
   ]
  },
  {
   "cell_type": "code",
   "execution_count": 51,
   "id": "661e345a-20b8-4438-a045-5f427da12616",
   "metadata": {},
   "outputs": [
    {
     "name": "stdout",
     "output_type": "stream",
     "text": [
      "0      1999.98\n",
      "6      2499.99\n",
      "12     1499.98\n",
      "18      999.98\n",
      "24      299.99\n",
      "30      699.98\n",
      "36     1199.97\n",
      "42     1199.97\n",
      "48      259.98\n",
      "54      239.96\n",
      "60      899.97\n",
      "66     1199.99\n",
      "72     1599.99\n",
      "78      499.98\n",
      "84       99.99\n",
      "90      199.98\n",
      "96      899.97\n",
      "102    3899.99\n",
      "108     459.98\n",
      "114     249.99\n",
      "120    1199.98\n",
      "126     499.99\n",
      "132    1299.99\n",
      "138    1499.99\n",
      "144     549.00\n",
      "150     349.99\n",
      "156     899.99\n",
      "162    1199.99\n",
      "168     699.99\n",
      "174     149.97\n",
      "180     649.99\n",
      "186     399.00\n",
      "192     199.99\n",
      "198     358.00\n",
      "204     299.99\n",
      "210     749.99\n",
      "216    2399.00\n",
      "222     199.96\n",
      "228     169.00\n",
      "234     299.00\n",
      "Name: Total Revenue, dtype: float64\n"
     ]
    }
   ],
   "source": [
    "elec_region = elec['Total Revenue']\n",
    "print(elec_region)"
   ]
  },
  {
   "cell_type": "code",
   "execution_count": 38,
   "id": "5268aaac-d383-43e1-975c-e8ee33db37bf",
   "metadata": {},
   "outputs": [
    {
     "name": "stdout",
     "output_type": "stream",
     "text": [
      "5       149.95\n",
      "11      599.97\n",
      "17      479.96\n",
      "23       89.97\n",
      "29      259.98\n",
      "35     1895.00\n",
      "41      259.98\n",
      "47      239.94\n",
      "53      249.95\n",
      "59      349.00\n",
      "65      599.98\n",
      "71      389.97\n",
      "77      209.97\n",
      "83      149.94\n",
      "89      259.98\n",
      "95      999.99\n",
      "101     219.98\n",
      "107     399.99\n",
      "113     689.85\n",
      "119     249.99\n",
      "125     199.99\n",
      "131     159.80\n",
      "137     199.90\n",
      "143     299.99\n",
      "149     299.98\n",
      "155     299.99\n",
      "161      69.98\n",
      "167     149.97\n",
      "173     699.99\n",
      "179     146.00\n",
      "185     499.95\n",
      "191     169.95\n",
      "197     449.99\n",
      "203     399.99\n",
      "209     129.00\n",
      "215     349.99\n",
      "221     599.99\n",
      "227     299.90\n",
      "233      98.85\n",
      "239      59.98\n",
      "Name: Total Revenue, dtype: float64\n"
     ]
    }
   ],
   "source": [
    "sport_region = sport['Total Revenue']\n",
    "print(sport_region)"
   ]
  },
  {
   "cell_type": "code",
   "execution_count": 39,
   "id": "a7d22534-3a68-4148-a2e0-51d487f57900",
   "metadata": {},
   "outputs": [],
   "source": [
    "elec_group = np.array(elec_region)\n",
    "sport_group = np.array(sport_region)\n"
   ]
  },
  {
   "cell_type": "code",
   "execution_count": 61,
   "id": "8084617c-e686-43a0-a568-d49c176ee09d",
   "metadata": {},
   "outputs": [
    {
     "name": "stdout",
     "output_type": "stream",
     "text": [
      "P-VALUE 0.000238742881160081 STATISTIC-VALUE 3.8521113853817393\n"
     ]
    }
   ],
   "source": [
    "statistic,p_value = stats.ttest_ind(a=elec_region, b=sport_region, equal_var = True) # independant 2 catogories \n",
    "print(\"P-VALUE\",p_value,\"STATISTIC-VALUE\",statistic)"
   ]
  },
  {
   "cell_type": "code",
   "execution_count": 62,
   "id": "002c98d9-7c00-4f8e-9346-bd9d5b496b32",
   "metadata": {},
   "outputs": [
    {
     "name": "stdout",
     "output_type": "stream",
     "text": [
      "Reject null hypothesis at alpha =0.05\n"
     ]
    }
   ],
   "source": [
    "alpha = 0.05\n",
    "if p_value < alpha:\n",
    "    print(f\"Reject null hypothesis at alpha ={alpha}\")\n",
    "else:\n",
    "    print(f\"Faild to reject null hypothesis at alpha = {alpha}\")"
   ]
  },
  {
   "cell_type": "markdown",
   "id": "927b2b8b-54f9-4487-bed4-c85f4ec8dd87",
   "metadata": {},
   "source": [
    "<h1>Sunburst Chart: Sales Distribution by Category and City</h1>"
   ]
  },
  {
   "cell_type": "code",
   "execution_count": null,
   "id": "b3f6b513-39b5-486e-8040-ecebf77017aa",
   "metadata": {},
   "outputs": [],
   "source": [
    "fig = px.sunburst(df, path=['Category', 'City'], values='Sales', title='Sales Distribution by Category and City')\n",
    "fig.show()"
   ]
  },
  {
   "cell_type": "markdown",
   "id": "e3fd1761-4f37-4a32-94a8-ac32b5dadf7a",
   "metadata": {},
   "source": [
    "<h1>Violin Plot: Rating Distribution by Category</h1>"
   ]
  },
  {
   "cell_type": "code",
   "execution_count": null,
   "id": "d5b6a36b-1de9-4935-927f-9e92f015f382",
   "metadata": {},
   "outputs": [],
   "source": [
    "fig = px.violin(df, x='Category', y='Rating', box=True, points='all', title='Rating Distribution by Category', color='Category')\n",
    "fig.show()"
   ]
  },
  {
   "cell_type": "markdown",
   "id": "3f290604-b4fc-472e-8e82-27c7f24463a4",
   "metadata": {},
   "source": [
    "<h1>Line Chart: Stock Quantity Over Time</h1>"
   ]
  },
  {
   "cell_type": "code",
   "execution_count": null,
   "id": "bde83ec5-b807-4c91-8d8a-cd6fc9ab1e88",
   "metadata": {},
   "outputs": [],
   "source": [
    "df['YearMonth'] = df['DateAdded'].dt.to_period('M')\n",
    "stock_over_time = df.groupby(['YearMonth', 'Category']).agg({'StockQuantity': 'sum'}).reset_index()\n",
    "stock_over_time['YearMonth'] = stock_over_time['YearMonth'].dt.to_timestamp()\n",
    "\n",
    "fig = px.line(stock_over_time, x='YearMonth', y='StockQuantity', color='Category', title='Stock Quantity Over Time')\n",
    "fig.update_layout(xaxis_title='Time', yaxis_title='Stock Quantity')\n",
    "fig.show()"
   ]
  },
  {
   "cell_type": "markdown",
   "id": "b017cfe8-a1a4-4feb-bfa6-cc645cceaa23",
   "metadata": {},
   "source": [
    "<h1>Radar Chart: Average Ratings by Category</h1>"
   ]
  },
  {
   "cell_type": "code",
   "execution_count": 2,
   "id": "a0052ce7-45f1-445e-9005-8005a00ad8c5",
   "metadata": {},
   "outputs": [
    {
     "ename": "NameError",
     "evalue": "name 'df' is not defined",
     "output_type": "error",
     "traceback": [
      "\u001b[1;31m---------------------------------------------------------------------------\u001b[0m",
      "\u001b[1;31mNameError\u001b[0m                                 Traceback (most recent call last)",
      "Cell \u001b[1;32mIn[2], line 2\u001b[0m\n\u001b[0;32m      1\u001b[0m \u001b[38;5;28;01mimport\u001b[39;00m \u001b[38;5;21;01mplotly\u001b[39;00m\u001b[38;5;21;01m.\u001b[39;00m\u001b[38;5;21;01mgraph_objects\u001b[39;00m \u001b[38;5;28;01mas\u001b[39;00m \u001b[38;5;21;01mgo\u001b[39;00m\n\u001b[1;32m----> 2\u001b[0m ratings_by_category \u001b[38;5;241m=\u001b[39m df\u001b[38;5;241m.\u001b[39mgroupby(\u001b[38;5;124m'\u001b[39m\u001b[38;5;124mCategory\u001b[39m\u001b[38;5;124m'\u001b[39m)\u001b[38;5;241m.\u001b[39magg({\u001b[38;5;124m'\u001b[39m\u001b[38;5;124mRating\u001b[39m\u001b[38;5;124m'\u001b[39m: \u001b[38;5;124m'\u001b[39m\u001b[38;5;124mmean\u001b[39m\u001b[38;5;124m'\u001b[39m})\u001b[38;5;241m.\u001b[39mreset_index()\n\u001b[0;32m      4\u001b[0m fig \u001b[38;5;241m=\u001b[39m go\u001b[38;5;241m.\u001b[39mFigure()\n\u001b[0;32m      6\u001b[0m fig\u001b[38;5;241m.\u001b[39madd_trace(go\u001b[38;5;241m.\u001b[39mScatterpolar(\n\u001b[0;32m      7\u001b[0m       r\u001b[38;5;241m=\u001b[39mratings_by_category[\u001b[38;5;124m'\u001b[39m\u001b[38;5;124mRating\u001b[39m\u001b[38;5;124m'\u001b[39m],\n\u001b[0;32m      8\u001b[0m       theta\u001b[38;5;241m=\u001b[39mratings_by_category[\u001b[38;5;124m'\u001b[39m\u001b[38;5;124mCategory\u001b[39m\u001b[38;5;124m'\u001b[39m],\n\u001b[0;32m      9\u001b[0m       fill\u001b[38;5;241m=\u001b[39m\u001b[38;5;124m'\u001b[39m\u001b[38;5;124mtoself\u001b[39m\u001b[38;5;124m'\u001b[39m,\n\u001b[0;32m     10\u001b[0m       name\u001b[38;5;241m=\u001b[39m\u001b[38;5;124m'\u001b[39m\u001b[38;5;124mAverage Ratings\u001b[39m\u001b[38;5;124m'\u001b[39m\n\u001b[0;32m     11\u001b[0m ))\n",
      "\u001b[1;31mNameError\u001b[0m: name 'df' is not defined"
     ]
    }
   ],
   "source": [
    "import plotly.graph_objects as go\n",
    "ratings_by_category = df.groupby('Category').agg({'Rating': 'mean'}).reset_index()\n",
    "\n",
    "fig = go.Figure()\n",
    "\n",
    "fig.add_trace(go.Scatterpolar(\n",
    "      r=ratings_by_category['Rating'],\n",
    "      theta=ratings_by_category['Category'],\n",
    "      fill='toself',\n",
    "      name='Average Ratings'\n",
    "))\n",
    "\n",
    "fig.update_layout(\n",
    "  polar=dict(\n",
    "    radialaxis=dict(\n",
    "      visible=True,\n",
    "      range=[0, 5]\n",
    "    )),\n",
    "  showlegend=False,\n",
    "  title='Average Ratings by Category'\n",
    ")\n",
    "\n",
    "fig.show()"
   ]
  },
  {
   "cell_type": "markdown",
   "id": "6f8132f6-7eb2-4fd6-bf3b-26716286647a",
   "metadata": {},
   "source": [
    "<h1>Bubble Chart: Sales and Rating by Category</h1>"
   ]
  },
  {
   "cell_type": "code",
   "execution_count": null,
   "id": "d7e635ca-371e-46ef-ab9c-155bf2ad8c03",
   "metadata": {},
   "outputs": [],
   "source": [
    "category_group = df.groupby('Category').agg({'Sales': 'sum', 'Rating': 'mean', 'NumReviews': 'sum'}).reset_index()\n",
    "\n",
    "fig = px.scatter(category_group, x='Sales', y='Rating', size='NumReviews', color='Category',\n",
    "                 title='Sales and Rating by Category', size_max=60)\n",
    "fig.show()"
   ]
  },
  {
   "cell_type": "markdown",
   "id": "6dcde1ad-c1bf-46ac-97b9-f018e52a0cb5",
   "metadata": {},
   "source": [
    "<h1>Waterfall Chart: Monthly Sales Breakdown</h1>"
   ]
  },
  {
   "cell_type": "code",
   "execution_count": null,
   "id": "42693545-4879-4dbb-af41-528395e90280",
   "metadata": {},
   "outputs": [],
   "source": [
    "monthly_sales = df.groupby(df['DateAdded'].dt.to_period('M')).agg({'Sales': 'sum'}).reset_index()\n",
    "monthly_sales['DateAdded'] = monthly_sales['DateAdded'].dt.to_timestamp()\n",
    "\n",
    "fig = go.Figure(go.Waterfall(\n",
    "    name=\"20\", orientation=\"v\",\n",
    "    x=monthly_sales['DateAdded'], textposition=\"outside\",\n",
    "    text=monthly_sales['Sales'],\n",
    "    y=monthly_sales['Sales'],\n",
    "    connector={\"line\":{\"color\":\"rgb(63, 63, 63)\"}},\n",
    "))\n",
    "\n",
    "fig.update_layout(\n",
    "    title=\"Monthly Sales Breakdown\",\n",
    "    showlegend=True\n",
    ")\n",
    "\n",
    "fig.show()"
   ]
  },
  {
   "cell_type": "markdown",
   "id": "b276cb38-1d05-48da-a6a0-509a680165a7",
   "metadata": {},
   "source": [
    "<h1>Pie Chart: Distribution of Product Categories</h1>"
   ]
  },
  {
   "cell_type": "code",
   "execution_count": 1,
   "id": "c269ae8f-40ab-4269-8357-242edd3c2714",
   "metadata": {},
   "outputs": [
    {
     "ename": "NameError",
     "evalue": "name 'px' is not defined",
     "output_type": "error",
     "traceback": [
      "\u001b[1;31m---------------------------------------------------------------------------\u001b[0m",
      "\u001b[1;31mNameError\u001b[0m                                 Traceback (most recent call last)",
      "Cell \u001b[1;32mIn[1], line 1\u001b[0m\n\u001b[1;32m----> 1\u001b[0m fig \u001b[38;5;241m=\u001b[39m px\u001b[38;5;241m.\u001b[39mpie(df, names\u001b[38;5;241m=\u001b[39m\u001b[38;5;124m'\u001b[39m\u001b[38;5;124mCategory\u001b[39m\u001b[38;5;124m'\u001b[39m, title\u001b[38;5;241m=\u001b[39m\u001b[38;5;124m'\u001b[39m\u001b[38;5;124mDistribution of Product Categories\u001b[39m\u001b[38;5;124m'\u001b[39m)\n\u001b[0;32m      2\u001b[0m fig\u001b[38;5;241m.\u001b[39mshow()\n",
      "\u001b[1;31mNameError\u001b[0m: name 'px' is not defined"
     ]
    }
   ],
   "source": [
    "fig = px.pie(df, names='Category', title='Distribution of Product Categories')\n",
    "fig.show()"
   ]
  },
  {
   "cell_type": "code",
   "execution_count": 5,
   "id": "e79e4c9f-3143-4103-bb1d-0050797e4b0c",
   "metadata": {},
   "outputs": [
    {
     "data": {
      "text/html": [
       "<div>\n",
       "<style scoped>\n",
       "    .dataframe tbody tr th:only-of-type {\n",
       "        vertical-align: middle;\n",
       "    }\n",
       "\n",
       "    .dataframe tbody tr th {\n",
       "        vertical-align: top;\n",
       "    }\n",
       "\n",
       "    .dataframe thead th {\n",
       "        text-align: right;\n",
       "    }\n",
       "</style>\n",
       "<table border=\"1\" class=\"dataframe\">\n",
       "  <thead>\n",
       "    <tr style=\"text-align: right;\">\n",
       "      <th></th>\n",
       "      <th>Entity</th>\n",
       "      <th>Year</th>\n",
       "      <th>Maize Production (tonnes)</th>\n",
       "      <th>Rice  Production ( tonnes)</th>\n",
       "      <th>Yams  Production (tonnes)</th>\n",
       "      <th>Wheat Production (tonnes)</th>\n",
       "      <th>Tomatoes Production (tonnes)</th>\n",
       "      <th>Tea  Production ( tonnes )</th>\n",
       "      <th>Sweet potatoes  Production (tonnes)</th>\n",
       "      <th>Sunflower seed  Production (tonnes)</th>\n",
       "      <th>...</th>\n",
       "      <th>Oranges  Production (tonnes)</th>\n",
       "      <th>Peas, dry Production ( tonnes)</th>\n",
       "      <th>Palm oil  Production (tonnes)</th>\n",
       "      <th>Grapes  Production (tonnes)</th>\n",
       "      <th>Coffee, green Production ( tonnes)</th>\n",
       "      <th>Cocoa beans Production (tonnes)</th>\n",
       "      <th>Meat, chicken  Production (tonnes)</th>\n",
       "      <th>Bananas  Production ( tonnes)</th>\n",
       "      <th>Avocados Production (tonnes)</th>\n",
       "      <th>Apples Production (tonnes)</th>\n",
       "    </tr>\n",
       "  </thead>\n",
       "  <tbody>\n",
       "    <tr>\n",
       "      <th>0</th>\n",
       "      <td>Afghanistan</td>\n",
       "      <td>1961</td>\n",
       "      <td>700000.0</td>\n",
       "      <td>319000.00</td>\n",
       "      <td>7.467702e+06</td>\n",
       "      <td>2279000.00</td>\n",
       "      <td>1873812.000</td>\n",
       "      <td>56315.0</td>\n",
       "      <td>3270871.000</td>\n",
       "      <td>12000.000</td>\n",
       "      <td>...</td>\n",
       "      <td>10100.000</td>\n",
       "      <td>232910.000</td>\n",
       "      <td>1131882.00</td>\n",
       "      <td>2.250000e+05</td>\n",
       "      <td>870970.000</td>\n",
       "      <td>835368.000</td>\n",
       "      <td>5600.00</td>\n",
       "      <td>3139079.000</td>\n",
       "      <td>63439.000</td>\n",
       "      <td>15100.000</td>\n",
       "    </tr>\n",
       "    <tr>\n",
       "      <th>1</th>\n",
       "      <td>Afghanistan</td>\n",
       "      <td>1962</td>\n",
       "      <td>700000.0</td>\n",
       "      <td>319000.00</td>\n",
       "      <td>7.420515e+06</td>\n",
       "      <td>2279000.00</td>\n",
       "      <td>2044797.000</td>\n",
       "      <td>61519.0</td>\n",
       "      <td>3562524.000</td>\n",
       "      <td>12800.000</td>\n",
       "      <td>...</td>\n",
       "      <td>10100.000</td>\n",
       "      <td>259412.000</td>\n",
       "      <td>1111006.00</td>\n",
       "      <td>2.250000e+05</td>\n",
       "      <td>883512.000</td>\n",
       "      <td>867170.000</td>\n",
       "      <td>6000.00</td>\n",
       "      <td>3181580.000</td>\n",
       "      <td>65118.000</td>\n",
       "      <td>15100.000</td>\n",
       "    </tr>\n",
       "    <tr>\n",
       "      <th>2</th>\n",
       "      <td>Afghanistan</td>\n",
       "      <td>1963</td>\n",
       "      <td>713000.0</td>\n",
       "      <td>319000.00</td>\n",
       "      <td>8.479074e+06</td>\n",
       "      <td>1947000.00</td>\n",
       "      <td>2096077.000</td>\n",
       "      <td>63596.0</td>\n",
       "      <td>3409916.000</td>\n",
       "      <td>12800.000</td>\n",
       "      <td>...</td>\n",
       "      <td>10100.000</td>\n",
       "      <td>251529.000</td>\n",
       "      <td>1145004.00</td>\n",
       "      <td>2.250000e+05</td>\n",
       "      <td>996674.000</td>\n",
       "      <td>922621.000</td>\n",
       "      <td>6160.00</td>\n",
       "      <td>3304256.000</td>\n",
       "      <td>61760.000</td>\n",
       "      <td>15100.000</td>\n",
       "    </tr>\n",
       "    <tr>\n",
       "      <th>3</th>\n",
       "      <td>Afghanistan</td>\n",
       "      <td>1964</td>\n",
       "      <td>720000.0</td>\n",
       "      <td>380000.00</td>\n",
       "      <td>9.113779e+06</td>\n",
       "      <td>2230000.00</td>\n",
       "      <td>2388264.000</td>\n",
       "      <td>66604.0</td>\n",
       "      <td>3229336.000</td>\n",
       "      <td>12800.000</td>\n",
       "      <td>...</td>\n",
       "      <td>12400.000</td>\n",
       "      <td>247556.000</td>\n",
       "      <td>1160831.00</td>\n",
       "      <td>2.650000e+05</td>\n",
       "      <td>1162048.000</td>\n",
       "      <td>1190061.000</td>\n",
       "      <td>6400.00</td>\n",
       "      <td>3392527.000</td>\n",
       "      <td>62759.000</td>\n",
       "      <td>18400.000</td>\n",
       "    </tr>\n",
       "    <tr>\n",
       "      <th>4</th>\n",
       "      <td>Afghanistan</td>\n",
       "      <td>1965</td>\n",
       "      <td>720000.0</td>\n",
       "      <td>380000.00</td>\n",
       "      <td>1.006791e+07</td>\n",
       "      <td>2282000.00</td>\n",
       "      <td>2559608.000</td>\n",
       "      <td>72418.0</td>\n",
       "      <td>3169104.000</td>\n",
       "      <td>13200.000</td>\n",
       "      <td>...</td>\n",
       "      <td>13700.000</td>\n",
       "      <td>266947.000</td>\n",
       "      <td>1138860.00</td>\n",
       "      <td>2.870000e+05</td>\n",
       "      <td>1075084.000</td>\n",
       "      <td>874245.000</td>\n",
       "      <td>6800.00</td>\n",
       "      <td>3450849.000</td>\n",
       "      <td>66269.000</td>\n",
       "      <td>20400.000</td>\n",
       "    </tr>\n",
       "    <tr>\n",
       "      <th>...</th>\n",
       "      <td>...</td>\n",
       "      <td>...</td>\n",
       "      <td>...</td>\n",
       "      <td>...</td>\n",
       "      <td>...</td>\n",
       "      <td>...</td>\n",
       "      <td>...</td>\n",
       "      <td>...</td>\n",
       "      <td>...</td>\n",
       "      <td>...</td>\n",
       "      <td>...</td>\n",
       "      <td>...</td>\n",
       "      <td>...</td>\n",
       "      <td>...</td>\n",
       "      <td>...</td>\n",
       "      <td>...</td>\n",
       "      <td>...</td>\n",
       "      <td>...</td>\n",
       "      <td>...</td>\n",
       "      <td>...</td>\n",
       "      <td>...</td>\n",
       "    </tr>\n",
       "    <tr>\n",
       "      <th>11907</th>\n",
       "      <td>Zimbabwe</td>\n",
       "      <td>2017</td>\n",
       "      <td>1532572.0</td>\n",
       "      <td>20502618.00</td>\n",
       "      <td>2.673608e+05</td>\n",
       "      <td>30991516.16</td>\n",
       "      <td>324020.864</td>\n",
       "      <td>83904.6</td>\n",
       "      <td>874.408</td>\n",
       "      <td>4077308.066</td>\n",
       "      <td>...</td>\n",
       "      <td>129055.800</td>\n",
       "      <td>40749.600</td>\n",
       "      <td>661978.98</td>\n",
       "      <td>7.018985e+06</td>\n",
       "      <td>63.200</td>\n",
       "      <td>34945.000</td>\n",
       "      <td>75000.00</td>\n",
       "      <td>1267.200</td>\n",
       "      <td>145042.096</td>\n",
       "      <td>1579154.000</td>\n",
       "    </tr>\n",
       "    <tr>\n",
       "      <th>11908</th>\n",
       "      <td>Zimbabwe</td>\n",
       "      <td>2018</td>\n",
       "      <td>1560100.0</td>\n",
       "      <td>31871776.60</td>\n",
       "      <td>2.667498e+05</td>\n",
       "      <td>16884482.98</td>\n",
       "      <td>309316.252</td>\n",
       "      <td>66842.6</td>\n",
       "      <td>1383.792</td>\n",
       "      <td>2107639.306</td>\n",
       "      <td>...</td>\n",
       "      <td>168074.000</td>\n",
       "      <td>21606.400</td>\n",
       "      <td>485223.38</td>\n",
       "      <td>3.415107e+06</td>\n",
       "      <td>68.000</td>\n",
       "      <td>34659.800</td>\n",
       "      <td>80357.14</td>\n",
       "      <td>1016.776</td>\n",
       "      <td>143384.384</td>\n",
       "      <td>907419.000</td>\n",
       "    </tr>\n",
       "    <tr>\n",
       "      <th>11909</th>\n",
       "      <td>Zimbabwe</td>\n",
       "      <td>2019</td>\n",
       "      <td>773976.0</td>\n",
       "      <td>3382151.40</td>\n",
       "      <td>4.790022e+05</td>\n",
       "      <td>64989733.20</td>\n",
       "      <td>540128.592</td>\n",
       "      <td>9854.4</td>\n",
       "      <td>298831.560</td>\n",
       "      <td>3320915.400</td>\n",
       "      <td>...</td>\n",
       "      <td>1134136.812</td>\n",
       "      <td>45436.400</td>\n",
       "      <td>361128.20</td>\n",
       "      <td>9.645766e+06</td>\n",
       "      <td>30401.400</td>\n",
       "      <td>20961.132</td>\n",
       "      <td>79790.97</td>\n",
       "      <td>195845.198</td>\n",
       "      <td>525095.272</td>\n",
       "      <td>3117813.560</td>\n",
       "    </tr>\n",
       "    <tr>\n",
       "      <th>11910</th>\n",
       "      <td>Zimbabwe</td>\n",
       "      <td>2020</td>\n",
       "      <td>1202347.0</td>\n",
       "      <td>3535631.80</td>\n",
       "      <td>7.437612e+05</td>\n",
       "      <td>43020887.20</td>\n",
       "      <td>5635740.200</td>\n",
       "      <td>276279.0</td>\n",
       "      <td>1727311.800</td>\n",
       "      <td>983256.000</td>\n",
       "      <td>...</td>\n",
       "      <td>72179.400</td>\n",
       "      <td>12023.200</td>\n",
       "      <td>279613.40</td>\n",
       "      <td>1.131937e+07</td>\n",
       "      <td>574723.374</td>\n",
       "      <td>158022.122</td>\n",
       "      <td>8000.00</td>\n",
       "      <td>1523258.600</td>\n",
       "      <td>28946.840</td>\n",
       "      <td>7994169.220</td>\n",
       "    </tr>\n",
       "    <tr>\n",
       "      <th>11911</th>\n",
       "      <td>Zimbabwe</td>\n",
       "      <td>2021</td>\n",
       "      <td>1469664.0</td>\n",
       "      <td>7575899.96</td>\n",
       "      <td>1.153263e+06</td>\n",
       "      <td>1316724.80</td>\n",
       "      <td>206550.000</td>\n",
       "      <td>145563.0</td>\n",
       "      <td>262706.284</td>\n",
       "      <td>421789.600</td>\n",
       "      <td>...</td>\n",
       "      <td>3597076.600</td>\n",
       "      <td>26225.256</td>\n",
       "      <td>11000.00</td>\n",
       "      <td>3.834786e+05</td>\n",
       "      <td>590070.590</td>\n",
       "      <td>2696.200</td>\n",
       "      <td>8000.00</td>\n",
       "      <td>425303.698</td>\n",
       "      <td>29313.660</td>\n",
       "      <td>112519.364</td>\n",
       "    </tr>\n",
       "  </tbody>\n",
       "</table>\n",
       "<p>11912 rows × 24 columns</p>\n",
       "</div>"
      ],
      "text/plain": [
       "            Entity  Year  Maize Production (tonnes)  \\\n",
       "0      Afghanistan  1961                   700000.0   \n",
       "1      Afghanistan  1962                   700000.0   \n",
       "2      Afghanistan  1963                   713000.0   \n",
       "3      Afghanistan  1964                   720000.0   \n",
       "4      Afghanistan  1965                   720000.0   \n",
       "...            ...   ...                        ...   \n",
       "11907     Zimbabwe  2017                  1532572.0   \n",
       "11908     Zimbabwe  2018                  1560100.0   \n",
       "11909     Zimbabwe  2019                   773976.0   \n",
       "11910     Zimbabwe  2020                  1202347.0   \n",
       "11911     Zimbabwe  2021                  1469664.0   \n",
       "\n",
       "       Rice  Production ( tonnes)  Yams  Production (tonnes)  \\\n",
       "0                       319000.00               7.467702e+06   \n",
       "1                       319000.00               7.420515e+06   \n",
       "2                       319000.00               8.479074e+06   \n",
       "3                       380000.00               9.113779e+06   \n",
       "4                       380000.00               1.006791e+07   \n",
       "...                           ...                        ...   \n",
       "11907                 20502618.00               2.673608e+05   \n",
       "11908                 31871776.60               2.667498e+05   \n",
       "11909                  3382151.40               4.790022e+05   \n",
       "11910                  3535631.80               7.437612e+05   \n",
       "11911                  7575899.96               1.153263e+06   \n",
       "\n",
       "       Wheat Production (tonnes)  Tomatoes Production (tonnes)  \\\n",
       "0                     2279000.00                   1873812.000   \n",
       "1                     2279000.00                   2044797.000   \n",
       "2                     1947000.00                   2096077.000   \n",
       "3                     2230000.00                   2388264.000   \n",
       "4                     2282000.00                   2559608.000   \n",
       "...                          ...                           ...   \n",
       "11907                30991516.16                    324020.864   \n",
       "11908                16884482.98                    309316.252   \n",
       "11909                64989733.20                    540128.592   \n",
       "11910                43020887.20                   5635740.200   \n",
       "11911                 1316724.80                    206550.000   \n",
       "\n",
       "       Tea  Production ( tonnes )  Sweet potatoes  Production (tonnes)  \\\n",
       "0                         56315.0                          3270871.000   \n",
       "1                         61519.0                          3562524.000   \n",
       "2                         63596.0                          3409916.000   \n",
       "3                         66604.0                          3229336.000   \n",
       "4                         72418.0                          3169104.000   \n",
       "...                           ...                                  ...   \n",
       "11907                     83904.6                              874.408   \n",
       "11908                     66842.6                             1383.792   \n",
       "11909                      9854.4                           298831.560   \n",
       "11910                    276279.0                          1727311.800   \n",
       "11911                    145563.0                           262706.284   \n",
       "\n",
       "       Sunflower seed  Production (tonnes)  ...  Oranges  Production (tonnes)  \\\n",
       "0                                12000.000  ...                     10100.000   \n",
       "1                                12800.000  ...                     10100.000   \n",
       "2                                12800.000  ...                     10100.000   \n",
       "3                                12800.000  ...                     12400.000   \n",
       "4                                13200.000  ...                     13700.000   \n",
       "...                                    ...  ...                           ...   \n",
       "11907                          4077308.066  ...                    129055.800   \n",
       "11908                          2107639.306  ...                    168074.000   \n",
       "11909                          3320915.400  ...                   1134136.812   \n",
       "11910                           983256.000  ...                     72179.400   \n",
       "11911                           421789.600  ...                   3597076.600   \n",
       "\n",
       "       Peas, dry Production ( tonnes)  Palm oil  Production (tonnes)  \\\n",
       "0                          232910.000                     1131882.00   \n",
       "1                          259412.000                     1111006.00   \n",
       "2                          251529.000                     1145004.00   \n",
       "3                          247556.000                     1160831.00   \n",
       "4                          266947.000                     1138860.00   \n",
       "...                               ...                            ...   \n",
       "11907                       40749.600                      661978.98   \n",
       "11908                       21606.400                      485223.38   \n",
       "11909                       45436.400                      361128.20   \n",
       "11910                       12023.200                      279613.40   \n",
       "11911                       26225.256                       11000.00   \n",
       "\n",
       "       Grapes  Production (tonnes)  Coffee, green Production ( tonnes)  \\\n",
       "0                     2.250000e+05                          870970.000   \n",
       "1                     2.250000e+05                          883512.000   \n",
       "2                     2.250000e+05                          996674.000   \n",
       "3                     2.650000e+05                         1162048.000   \n",
       "4                     2.870000e+05                         1075084.000   \n",
       "...                            ...                                 ...   \n",
       "11907                 7.018985e+06                              63.200   \n",
       "11908                 3.415107e+06                              68.000   \n",
       "11909                 9.645766e+06                           30401.400   \n",
       "11910                 1.131937e+07                          574723.374   \n",
       "11911                 3.834786e+05                          590070.590   \n",
       "\n",
       "       Cocoa beans Production (tonnes)  Meat, chicken  Production (tonnes)  \\\n",
       "0                           835368.000                             5600.00   \n",
       "1                           867170.000                             6000.00   \n",
       "2                           922621.000                             6160.00   \n",
       "3                          1190061.000                             6400.00   \n",
       "4                           874245.000                             6800.00   \n",
       "...                                ...                                 ...   \n",
       "11907                        34945.000                            75000.00   \n",
       "11908                        34659.800                            80357.14   \n",
       "11909                        20961.132                            79790.97   \n",
       "11910                       158022.122                             8000.00   \n",
       "11911                         2696.200                             8000.00   \n",
       "\n",
       "       Bananas  Production ( tonnes)  Avocados Production (tonnes)  \\\n",
       "0                        3139079.000                     63439.000   \n",
       "1                        3181580.000                     65118.000   \n",
       "2                        3304256.000                     61760.000   \n",
       "3                        3392527.000                     62759.000   \n",
       "4                        3450849.000                     66269.000   \n",
       "...                              ...                           ...   \n",
       "11907                       1267.200                    145042.096   \n",
       "11908                       1016.776                    143384.384   \n",
       "11909                     195845.198                    525095.272   \n",
       "11910                    1523258.600                     28946.840   \n",
       "11911                     425303.698                     29313.660   \n",
       "\n",
       "       Apples Production (tonnes)  \n",
       "0                       15100.000  \n",
       "1                       15100.000  \n",
       "2                       15100.000  \n",
       "3                       18400.000  \n",
       "4                       20400.000  \n",
       "...                           ...  \n",
       "11907                 1579154.000  \n",
       "11908                  907419.000  \n",
       "11909                 3117813.560  \n",
       "11910                 7994169.220  \n",
       "11911                  112519.364  \n",
       "\n",
       "[11912 rows x 24 columns]"
      ]
     },
     "execution_count": 5,
     "metadata": {},
     "output_type": "execute_result"
    }
   ],
   "source": [
    "import pandas as pd\n",
    "df = pd.read_csv(\"world food production.csv\")\n",
    "df"
   ]
  },
  {
   "cell_type": "code",
   "execution_count": null,
   "id": "b339901d-1570-4194-9caa-5ce937a62ccb",
   "metadata": {},
   "outputs": [],
   "source": []
  }
 ],
 "metadata": {
  "kernelspec": {
   "display_name": "Python 3 (ipykernel)",
   "language": "python",
   "name": "python3"
  },
  "language_info": {
   "codemirror_mode": {
    "name": "ipython",
    "version": 3
   },
   "file_extension": ".py",
   "mimetype": "text/x-python",
   "name": "python",
   "nbconvert_exporter": "python",
   "pygments_lexer": "ipython3",
   "version": "3.11.7"
  }
 },
 "nbformat": 4,
 "nbformat_minor": 5
}
